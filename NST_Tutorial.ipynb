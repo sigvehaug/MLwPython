{
  "nbformat": 4,
  "nbformat_minor": 0,
  "metadata": {
    "colab": {
      "name": "NST-Tutorial.ipynb",
      "provenance": [],
      "mount_file_id": "1RjorZk30romu7vPFrglr9KGGo2TGVFxv",
      "authorship_tag": "ABX9TyM7bnZN4wMf51fqpDDlXnH8",
      "include_colab_link": true
    },
    "kernelspec": {
      "display_name": "Python 3",
      "name": "python3"
    },
    "accelerator": "GPU"
  },
  "cells": [
    {
      "cell_type": "markdown",
      "metadata": {
        "id": "view-in-github",
        "colab_type": "text"
      },
      "source": [
        "<a href=\"https://colab.research.google.com/github/sigvehaug/MLwPython/blob/master/NST_Tutorial.ipynb\" target=\"_parent\"><img src=\"https://colab.research.google.com/assets/colab-badge.svg\" alt=\"Open In Colab\"/></a>"
      ]
    },
    {
      "cell_type": "markdown",
      "metadata": {
        "id": "jvaKQ67aTKdZ"
      },
      "source": [
        "# Evening Lecture on Neural Style Transformation"
      ]
    },
    {
      "cell_type": "markdown",
      "metadata": {
        "id": "FH48m42OTn46"
      },
      "source": [
        "Why not use a convolutional neural network to redraw an image in a different art style?\n",
        "\n",
        "\n"
      ]
    },
    {
      "cell_type": "markdown",
      "metadata": {
        "id": "_Pd3WhSu5bTo"
      },
      "source": [
        "# Load images and some configurations"
      ]
    },
    {
      "cell_type": "code",
      "metadata": {
        "id": "fGijSu-yMtSa"
      },
      "source": [
        "# Import the content and style image\n",
        "# Alternative 1: interactively now\n",
        "#from google.colab import files\n",
        "#files.upload()\n",
        "# Alternative 2: get them from your google drive\n",
        "from google.colab import drive\n",
        "drive.mount('/content/drive')"
      ],
      "execution_count": null,
      "outputs": []
    },
    {
      "cell_type": "code",
      "metadata": {
        "id": "CX7Zgg9FMWeh"
      },
      "source": [
        "# Configure the transformation\n",
        "import keras\n",
        "#keras.__version__\n",
        "from tensorflow.keras.utils import load_img,img_to_array\n",
        "import tensorflow as tf\n",
        "\n",
        "tf.compat.v1.disable_eager_execution()\n",
        "iterations = 10\n",
        "\n",
        "# This is the path to the image you want to transform.\n",
        "target_image_path = '/content/drive/MyDrive/Colab_Notebooks/NST/monalisa.jpeg'\n",
        "#'/content/drive/MyDrive/Colab_Notebooks/NST/shit-rock-2001.jpg'\n",
        "#'/content/drive/MyDrive/Colab_Notebooks/NST/ai-feg.jpg'\n",
        "#'/content/drive/MyDrive/Colab_Notebooks/NST/WorldOrigin.jpg'\n",
        "\n",
        "# This is the path to the style image.\n",
        "style_reference_image_path = '/content/drive/MyDrive/Colab_Notebooks/NST/scream.jpg'\n",
        "\n",
        "#'/content/drive/MyDrive/Colab_Notebooks/NST/cubic.png'\n",
        "\n",
        "\n",
        "# Dimensions of the generated picture.\n",
        "width, height = load_img(target_image_path).size\n",
        "img_height = 400\n",
        "img_width = int(width * img_height / height)\n"
      ],
      "execution_count": null,
      "outputs": []
    },
    {
      "cell_type": "markdown",
      "metadata": {
        "id": "iwUVuLxf5tUc"
      },
      "source": [
        "# Some helper functions"
      ]
    },
    {
      "cell_type": "code",
      "metadata": {
        "id": "knTTR1C-Ogaw"
      },
      "source": [
        "# Helper functions\n",
        "import numpy as np\n",
        "from keras.applications import vgg19\n",
        "\n",
        "def preprocess_image(image_path):\n",
        "    img = load_img(image_path, target_size=(img_height, img_width))\n",
        "    img = img_to_array(img)\n",
        "    img = np.expand_dims(img, axis=0)\n",
        "    img = vgg19.preprocess_input(img)\n",
        "    return img\n",
        "\n",
        "def deprocess_image(x):\n",
        "    # Remove zero-center by mean pixel\n",
        "    x[:, :, 0] += 103.939\n",
        "    x[:, :, 1] += 116.779\n",
        "    x[:, :, 2] += 123.68\n",
        "    # 'BGR'->'RGB'\n",
        "    x = x[:, :, ::-1]\n",
        "    x = np.clip(x, 0, 255).astype('uint8')\n",
        "    return x\n",
        "\n",
        "def content_loss(base, combination):\n",
        "    return K.sum(K.square(combination - base))\n",
        "\n",
        "def gram_matrix(x):\n",
        "    features = K.batch_flatten(K.permute_dimensions(x, (2, 0, 1)))\n",
        "    gram = K.dot(features, K.transpose(features))\n",
        "    return gram\n",
        "\n",
        "def style_loss(style, combination):\n",
        "    S = gram_matrix(style)\n",
        "    C = gram_matrix(combination)\n",
        "    channels = 3\n",
        "    size = img_height * img_width\n",
        "    return K.sum(K.square(S - C)) / (4. * (channels ** 2) * (size ** 2))\n",
        "\n",
        "def total_variation_loss(x):\n",
        "    a = K.square(\n",
        "        x[:, :img_height - 1, :img_width - 1, :] - x[:, 1:, :img_width - 1, :])\n",
        "    b = K.square(\n",
        "        x[:, :img_height - 1, :img_width - 1, :] - x[:, :img_height - 1, 1:, :])\n",
        "    return K.sum(K.pow(a + b, 1.25))\n",
        "\n",
        "class Evaluator(object):\n",
        "    def __init__(self):\n",
        "        self.loss_value = None\n",
        "        self.grads_values = None\n",
        "\n",
        "    def loss(self, x):\n",
        "        assert self.loss_value is None\n",
        "        x = x.reshape((1, img_height, img_width, 3))\n",
        "        outs = fetch_loss_and_grads([x])\n",
        "        loss_value = outs[0]\n",
        "        grad_values = outs[1].flatten().astype('float64')\n",
        "        self.loss_value = loss_value\n",
        "        self.grad_values = grad_values\n",
        "        return self.loss_value\n",
        "\n",
        "    def grads(self, x):\n",
        "        assert self.loss_value is not None\n",
        "        grad_values = np.copy(self.grad_values)\n",
        "        self.loss_value = None\n",
        "        self.grad_values = None\n",
        "        return grad_values"
      ],
      "execution_count": null,
      "outputs": []
    },
    {
      "cell_type": "markdown",
      "metadata": {
        "id": "nj_bhFXJ54v9"
      },
      "source": [
        "# Load the CNN and it's parameters and run the training"
      ]
    },
    {
      "cell_type": "code",
      "metadata": {
        "id": "qVbWuAwuNG4u"
      },
      "source": [
        "\n",
        "from keras import backend as K\n",
        "\n",
        "target_image = K.constant(preprocess_image(target_image_path))\n",
        "style_reference_image = K.constant(preprocess_image(style_reference_image_path))\n",
        "\n",
        "# This placeholder will contain our generated image\n",
        "combination_image = K.placeholder((1, img_height, img_width, 3))\n",
        "\n",
        "# We combine the 3 images into a single batch\n",
        "input_tensor = K.concatenate([target_image,\n",
        "                              style_reference_image,\n",
        "                              combination_image], axis=0)\n",
        "\n",
        "# We build the VGG19 network with our batch of 3 images as input.\n",
        "# The model will be loaded with pre-trained ImageNet weights.\n",
        "model = vgg19.VGG19(input_tensor=input_tensor,\n",
        "                    weights='imagenet',\n",
        "                    include_top=False)\n",
        "print('Model loaded.')\n",
        "\n",
        "\n",
        "\n",
        "# Dict mapping layer names to activation tensors\n",
        "outputs_dict = dict([(layer.name, layer.output) for layer in model.layers])\n",
        "# Name of layer used for content loss\n",
        "content_layer = 'block5_conv2'\n",
        "# Name of layers used for style loss\n",
        "style_layers = ['block1_conv1',\n",
        "                'block2_conv1',\n",
        "                'block3_conv1',\n",
        "                'block4_conv1',\n",
        "                'block5_conv1']\n",
        "# Weights in the weighted average of the loss components\n",
        "total_variation_weight = 1e-6\n",
        "style_weight = 1e-6\n",
        "content_weight = 2.5e-8\n",
        "\n",
        "# Define the loss by adding all components to a `loss` variable\n",
        "loss = K.variable(0.)\n",
        "layer_features = outputs_dict[content_layer]\n",
        "target_image_features = layer_features[0, :, :, :]\n",
        "combination_features = layer_features[2, :, :, :]\n",
        "loss = loss + content_weight * content_loss(target_image_features,\n",
        "                                      combination_features)\n",
        "for layer_name in style_layers:\n",
        "    layer_features = outputs_dict[layer_name]\n",
        "    style_reference_features = layer_features[1, :, :, :]\n",
        "    combination_features = layer_features[2, :, :, :]\n",
        "    sl = style_loss(style_reference_features, combination_features)\n",
        "    loss = loss + (style_weight / len(style_layers)) * sl\n",
        "loss = loss + total_variation_weight * total_variation_loss(combination_image)\n",
        "loss\n",
        "\n",
        "# Get the gradients of the generated image wrt the loss\n",
        "grads = K.gradients(loss, combination_image)[0]\n",
        "\n",
        "# Function to fetch the values of the current loss and the current gradients\n",
        "fetch_loss_and_grads = K.function([combination_image], [loss, grads])\n",
        "\n",
        "evaluator = Evaluator()\n",
        "\n",
        "from scipy.optimize import fmin_l_bfgs_b\n",
        "from matplotlib import pyplot as plt\n",
        "import time\n",
        "\n",
        "result_prefix = target_image_path.split()[0]\n",
        "#iterations = 20\n",
        "\n",
        "# Run scipy-based optimization (L-BFGS) over the pixels of the generated image\n",
        "# so as to minimize the neural style loss.\n",
        "# This is our initial state: the target image.\n",
        "# Note that `scipy.optimize.fmin_l_bfgs_b` can only process flat vectors.\n",
        "x = preprocess_image(target_image_path)\n",
        "x = x.flatten()\n",
        "for i in range(iterations):\n",
        "    print('Start of iteration', i)\n",
        "    start_time = time.time()\n",
        "    x, min_val, info = fmin_l_bfgs_b(evaluator.loss, x,\n",
        "                                     fprime=evaluator.grads, maxfun=20)\n",
        "    print('Current loss value:', min_val)\n",
        "    # Save current generated image\n",
        "    img = x.copy().reshape((img_height, img_width, 3))\n",
        "    img = deprocess_image(img)\n",
        "    fname = result_prefix + '_%d.png' % i\n",
        "    if i == iterations -1 :\n",
        "      plt.imsave(fname, img)\n",
        "    end_time = time.time()\n",
        "    print('Image saved as', fname)\n",
        "    print('Iteration %d completed in %ds' % (i, end_time - start_time))\n"
      ],
      "execution_count": null,
      "outputs": []
    },
    {
      "cell_type": "code",
      "metadata": {
        "id": "fkiyjL1XTbQG"
      },
      "source": [],
      "execution_count": null,
      "outputs": []
    },
    {
      "cell_type": "markdown",
      "metadata": {
        "id": "3Y_sIsEs6INE"
      },
      "source": [
        "# Plot the results"
      ]
    },
    {
      "cell_type": "code",
      "metadata": {
        "id": "KN_u_9xFPOVD"
      },
      "source": [
        "from matplotlib import pyplot as plt\n",
        "\n",
        "# Content image\n",
        "plt.imshow(load_img(target_image_path, target_size=(img_height, img_width)))\n",
        "plt.figure()\n",
        "# Style image\n",
        "plt.imshow(load_img(style_reference_image_path, target_size=(img_height, img_width)))\n",
        "plt.figure()\n",
        "\n",
        "# Generate image\n",
        "plt.imshow(img)\n",
        "plt.show()"
      ],
      "execution_count": null,
      "outputs": []
    },
    {
      "cell_type": "code",
      "metadata": {
        "id": "dFxCbniBOeUM"
      },
      "source": [],
      "execution_count": null,
      "outputs": []
    },
    {
      "cell_type": "markdown",
      "metadata": {
        "id": "Zi65rsP56cPd"
      },
      "source": [
        "# Comments"
      ]
    },
    {
      "cell_type": "markdown",
      "metadata": {
        "id": "98K6BDaaQ7EP"
      },
      "source": [
        "Some comments:\n",
        "GPU makes this code about 15 times faster.\n",
        "Images should have 60 pixels or more per centimeter.\n",
        "1x2 m2 = 6000 x 12000 = 72 MP.\n",
        "Best 2020 cameras go up to 60 MP."
      ]
    }
  ]
}